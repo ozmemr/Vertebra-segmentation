{
  "cells": [
    {
      "cell_type": "markdown",
      "metadata": {
        "id": "ThXrqHkKBqh9"
      },
      "source": [
        "# Vertebra Segmentation\n",
        "\n",
        "\n",
        "Yazı\n",
        "---\n",
        "\n",
        "**Proje Künyesi:**\n",
        "\n",
        "1-Emre Özmen\n",
        "2-Hazal İzol Özmen\n",
        "3-Serdar Yüksel\n",
        "4-Alican Barış\n",
        "5-Ozan Beytemur\n",
        "\n"
      ]
    },
    {
      "cell_type": "markdown",
      "metadata": {
        "id": "rGWTPWBIx370"
      },
      "source": [
        "*italicized text*## **1. Installation** *italicized text*"
      ]
    },
    {
      "cell_type": "code",
      "execution_count": 1,
      "metadata": {
        "colab": {
          "base_uri": "https://localhost:8080/",
          "height": 1000
        },
        "id": "3o9rE4xJHBKa",
        "outputId": "11c43532-9e4d-41bd-a78a-a1fb6d4cefec"
      },
      "outputs": [
        {
          "output_type": "stream",
          "name": "stdout",
          "text": [
            "--2022-12-17 05:25:06--  https://developer.download.nvidia.com/compute/cuda/repos/ubuntu2004/x86_64/libcudnn8_8.1.0.77-1+cuda11.2_amd64.deb\n",
            "Resolving developer.download.nvidia.com (developer.download.nvidia.com)... 152.195.19.142\n",
            "Connecting to developer.download.nvidia.com (developer.download.nvidia.com)|152.195.19.142|:443... connected.\n",
            "HTTP request sent, awaiting response... 200 OK\n",
            "Length: 430460776 (411M) [application/x-deb]\n",
            "Saving to: ‘libcudnn8_8.1.0.77-1+cuda11.2_amd64.deb’\n",
            "\n",
            "libcudnn8_8.1.0.77- 100%[===================>] 410.52M   204MB/s    in 2.0s    \n",
            "\n",
            "2022-12-17 05:25:09 (204 MB/s) - ‘libcudnn8_8.1.0.77-1+cuda11.2_amd64.deb’ saved [430460776/430460776]\n",
            "\n",
            "\u001b[1mdpkg:\u001b[0m \u001b[1;33mwarning:\u001b[0m downgrading libcudnn8 from 8.1.1.33-1+cuda11.2 to 8.1.0.77-1+cuda11.2\n",
            "(Reading database ... 124016 files and directories currently installed.)\n",
            "Preparing to unpack libcudnn8_8.1.0.77-1+cuda11.2_amd64.deb ...\n",
            "Unpacking libcudnn8 (8.1.0.77-1+cuda11.2) over (8.1.1.33-1+cuda11.2) ...\n",
            "Setting up libcudnn8 (8.1.0.77-1+cuda11.2) ...\n",
            "lrwxrwxrwx 1 root root     17 Jan 25  2021 /usr/lib/x86_64-linux-gnu/libcudnn.so.8 -> libcudnn.so.8.1.0\n",
            "-rw-r--r-- 1 root root 158264 Jan 25  2021 /usr/lib/x86_64-linux-gnu/libcudnn.so.8.1.0\n",
            "Looking in indexes: https://pypi.org/simple, https://us-python.pkg.dev/colab-wheels/public/simple/\n",
            "Collecting tensorflow==2.5.0\n",
            "  Downloading tensorflow-2.5.0-cp38-cp38-manylinux2010_x86_64.whl (454.4 MB)\n",
            "\u001b[K     |████████████████████████████████| 454.4 MB 38 kB/s \n",
            "\u001b[?25hRequirement already satisfied: h5py~=3.1.0 in /usr/local/lib/python3.8/dist-packages (from tensorflow==2.5.0) (3.1.0)\n",
            "Collecting absl-py~=0.10\n",
            "  Downloading absl_py-0.15.0-py3-none-any.whl (132 kB)\n",
            "\u001b[K     |████████████████████████████████| 132 kB 62.4 MB/s \n",
            "\u001b[?25hRequirement already satisfied: protobuf>=3.9.2 in /usr/local/lib/python3.8/dist-packages (from tensorflow==2.5.0) (3.19.6)\n",
            "Requirement already satisfied: flatbuffers~=1.12.0 in /usr/local/lib/python3.8/dist-packages (from tensorflow==2.5.0) (1.12)\n",
            "Collecting grpcio~=1.34.0\n",
            "  Downloading grpcio-1.34.1-cp38-cp38-manylinux2014_x86_64.whl (4.0 MB)\n",
            "\u001b[K     |████████████████████████████████| 4.0 MB 76.8 MB/s \n",
            "\u001b[?25hCollecting wrapt~=1.12.1\n",
            "  Downloading wrapt-1.12.1.tar.gz (27 kB)\n",
            "Requirement already satisfied: google-pasta~=0.2 in /usr/local/lib/python3.8/dist-packages (from tensorflow==2.5.0) (0.2.0)\n",
            "Requirement already satisfied: six~=1.15.0 in /usr/local/lib/python3.8/dist-packages (from tensorflow==2.5.0) (1.15.0)\n",
            "Collecting keras-nightly~=2.5.0.dev\n",
            "  Downloading keras_nightly-2.5.0.dev2021032900-py2.py3-none-any.whl (1.2 MB)\n",
            "\u001b[K     |████████████████████████████████| 1.2 MB 41.0 MB/s \n",
            "\u001b[?25hCollecting termcolor~=1.1.0\n",
            "  Downloading termcolor-1.1.0.tar.gz (3.9 kB)\n",
            "Collecting tensorflow-estimator<2.6.0,>=2.5.0rc0\n",
            "  Downloading tensorflow_estimator-2.5.0-py2.py3-none-any.whl (462 kB)\n",
            "\u001b[K     |████████████████████████████████| 462 kB 53.5 MB/s \n",
            "\u001b[?25hRequirement already satisfied: opt-einsum~=3.3.0 in /usr/local/lib/python3.8/dist-packages (from tensorflow==2.5.0) (3.3.0)\n",
            "Requirement already satisfied: wheel~=0.35 in /usr/local/lib/python3.8/dist-packages (from tensorflow==2.5.0) (0.38.4)\n",
            "Requirement already satisfied: keras-preprocessing~=1.1.2 in /usr/local/lib/python3.8/dist-packages (from tensorflow==2.5.0) (1.1.2)\n",
            "Collecting numpy~=1.19.2\n",
            "  Downloading numpy-1.19.5-cp38-cp38-manylinux2010_x86_64.whl (14.9 MB)\n",
            "\u001b[K     |████████████████████████████████| 14.9 MB 41.1 MB/s \n",
            "\u001b[?25hCollecting typing-extensions~=3.7.4\n",
            "  Downloading typing_extensions-3.7.4.3-py3-none-any.whl (22 kB)\n",
            "Requirement already satisfied: tensorboard~=2.5 in /usr/local/lib/python3.8/dist-packages (from tensorflow==2.5.0) (2.9.1)\n",
            "Requirement already satisfied: astunparse~=1.6.3 in /usr/local/lib/python3.8/dist-packages (from tensorflow==2.5.0) (1.6.3)\n",
            "Requirement already satisfied: gast==0.4.0 in /usr/local/lib/python3.8/dist-packages (from tensorflow==2.5.0) (0.4.0)\n",
            "Requirement already satisfied: google-auth<3,>=1.6.3 in /usr/local/lib/python3.8/dist-packages (from tensorboard~=2.5->tensorflow==2.5.0) (2.15.0)\n",
            "Requirement already satisfied: setuptools>=41.0.0 in /usr/local/lib/python3.8/dist-packages (from tensorboard~=2.5->tensorflow==2.5.0) (57.4.0)\n",
            "Requirement already satisfied: tensorboard-plugin-wit>=1.6.0 in /usr/local/lib/python3.8/dist-packages (from tensorboard~=2.5->tensorflow==2.5.0) (1.8.1)\n",
            "Requirement already satisfied: tensorboard-data-server<0.7.0,>=0.6.0 in /usr/local/lib/python3.8/dist-packages (from tensorboard~=2.5->tensorflow==2.5.0) (0.6.1)\n",
            "Requirement already satisfied: google-auth-oauthlib<0.5,>=0.4.1 in /usr/local/lib/python3.8/dist-packages (from tensorboard~=2.5->tensorflow==2.5.0) (0.4.6)\n",
            "Requirement already satisfied: requests<3,>=2.21.0 in /usr/local/lib/python3.8/dist-packages (from tensorboard~=2.5->tensorflow==2.5.0) (2.23.0)\n",
            "Requirement already satisfied: markdown>=2.6.8 in /usr/local/lib/python3.8/dist-packages (from tensorboard~=2.5->tensorflow==2.5.0) (3.4.1)\n",
            "Requirement already satisfied: werkzeug>=1.0.1 in /usr/local/lib/python3.8/dist-packages (from tensorboard~=2.5->tensorflow==2.5.0) (1.0.1)\n",
            "Requirement already satisfied: pyasn1-modules>=0.2.1 in /usr/local/lib/python3.8/dist-packages (from google-auth<3,>=1.6.3->tensorboard~=2.5->tensorflow==2.5.0) (0.2.8)\n",
            "Requirement already satisfied: cachetools<6.0,>=2.0.0 in /usr/local/lib/python3.8/dist-packages (from google-auth<3,>=1.6.3->tensorboard~=2.5->tensorflow==2.5.0) (5.2.0)\n",
            "Requirement already satisfied: rsa<5,>=3.1.4 in /usr/local/lib/python3.8/dist-packages (from google-auth<3,>=1.6.3->tensorboard~=2.5->tensorflow==2.5.0) (4.9)\n",
            "Requirement already satisfied: requests-oauthlib>=0.7.0 in /usr/local/lib/python3.8/dist-packages (from google-auth-oauthlib<0.5,>=0.4.1->tensorboard~=2.5->tensorflow==2.5.0) (1.3.1)\n",
            "Requirement already satisfied: importlib-metadata>=4.4 in /usr/local/lib/python3.8/dist-packages (from markdown>=2.6.8->tensorboard~=2.5->tensorflow==2.5.0) (5.1.0)\n",
            "Requirement already satisfied: zipp>=0.5 in /usr/local/lib/python3.8/dist-packages (from importlib-metadata>=4.4->markdown>=2.6.8->tensorboard~=2.5->tensorflow==2.5.0) (3.11.0)\n",
            "Requirement already satisfied: pyasn1<0.5.0,>=0.4.6 in /usr/local/lib/python3.8/dist-packages (from pyasn1-modules>=0.2.1->google-auth<3,>=1.6.3->tensorboard~=2.5->tensorflow==2.5.0) (0.4.8)\n",
            "Requirement already satisfied: idna<3,>=2.5 in /usr/local/lib/python3.8/dist-packages (from requests<3,>=2.21.0->tensorboard~=2.5->tensorflow==2.5.0) (2.10)\n",
            "Requirement already satisfied: urllib3!=1.25.0,!=1.25.1,<1.26,>=1.21.1 in /usr/local/lib/python3.8/dist-packages (from requests<3,>=2.21.0->tensorboard~=2.5->tensorflow==2.5.0) (1.24.3)\n",
            "Requirement already satisfied: chardet<4,>=3.0.2 in /usr/local/lib/python3.8/dist-packages (from requests<3,>=2.21.0->tensorboard~=2.5->tensorflow==2.5.0) (3.0.4)\n",
            "Requirement already satisfied: certifi>=2017.4.17 in /usr/local/lib/python3.8/dist-packages (from requests<3,>=2.21.0->tensorboard~=2.5->tensorflow==2.5.0) (2022.12.7)\n",
            "Requirement already satisfied: oauthlib>=3.0.0 in /usr/local/lib/python3.8/dist-packages (from requests-oauthlib>=0.7.0->google-auth-oauthlib<0.5,>=0.4.1->tensorboard~=2.5->tensorflow==2.5.0) (3.2.2)\n",
            "Building wheels for collected packages: termcolor, wrapt\n",
            "  Building wheel for termcolor (setup.py) ... \u001b[?25l\u001b[?25hdone\n",
            "  Created wheel for termcolor: filename=termcolor-1.1.0-py3-none-any.whl size=4849 sha256=d414a574da72240b63ac1e0bb96ea60d870175dd05a87142f88128564d4100f0\n",
            "  Stored in directory: /root/.cache/pip/wheels/a0/16/9c/5473df82468f958445479c59e784896fa24f4a5fc024b0f501\n",
            "  Building wheel for wrapt (setup.py) ... \u001b[?25l\u001b[?25hdone\n",
            "  Created wheel for wrapt: filename=wrapt-1.12.1-cp38-cp38-linux_x86_64.whl size=72344 sha256=0d3964183ddaee5d987684fd93f57e50ee2769f341fbad1dcd961d189d1071df\n",
            "  Stored in directory: /root/.cache/pip/wheels/5f/fd/9e/b6cf5890494cb8ef0b5eaff72e5d55a70fb56316007d6dfe73\n",
            "Successfully built termcolor wrapt\n",
            "Installing collected packages: numpy, grpcio, absl-py, wrapt, typing-extensions, termcolor, tensorflow-estimator, keras-nightly, tensorflow\n",
            "  Attempting uninstall: numpy\n",
            "    Found existing installation: numpy 1.21.6\n",
            "    Uninstalling numpy-1.21.6:\n",
            "      Successfully uninstalled numpy-1.21.6\n",
            "  Attempting uninstall: grpcio\n",
            "    Found existing installation: grpcio 1.51.1\n",
            "    Uninstalling grpcio-1.51.1:\n",
            "      Successfully uninstalled grpcio-1.51.1\n",
            "  Attempting uninstall: absl-py\n",
            "    Found existing installation: absl-py 1.3.0\n",
            "    Uninstalling absl-py-1.3.0:\n",
            "      Successfully uninstalled absl-py-1.3.0\n",
            "  Attempting uninstall: wrapt\n",
            "    Found existing installation: wrapt 1.14.1\n",
            "    Uninstalling wrapt-1.14.1:\n",
            "      Successfully uninstalled wrapt-1.14.1\n",
            "  Attempting uninstall: typing-extensions\n",
            "    Found existing installation: typing-extensions 4.4.0\n",
            "    Uninstalling typing-extensions-4.4.0:\n",
            "      Successfully uninstalled typing-extensions-4.4.0\n",
            "  Attempting uninstall: termcolor\n",
            "    Found existing installation: termcolor 2.1.1\n",
            "    Uninstalling termcolor-2.1.1:\n",
            "      Successfully uninstalled termcolor-2.1.1\n",
            "  Attempting uninstall: tensorflow-estimator\n",
            "    Found existing installation: tensorflow-estimator 2.9.0\n",
            "    Uninstalling tensorflow-estimator-2.9.0:\n",
            "      Successfully uninstalled tensorflow-estimator-2.9.0\n",
            "  Attempting uninstall: tensorflow\n",
            "    Found existing installation: tensorflow 2.9.2\n",
            "    Uninstalling tensorflow-2.9.2:\n",
            "      Successfully uninstalled tensorflow-2.9.2\n",
            "\u001b[31mERROR: pip's dependency resolver does not currently take into account all the packages that are installed. This behaviour is the source of the following dependency conflicts.\n",
            "xarray 2022.12.0 requires numpy>=1.20, but you have numpy 1.19.5 which is incompatible.\n",
            "xarray-einstats 0.4.0 requires numpy>=1.20, but you have numpy 1.19.5 which is incompatible.\n",
            "pydantic 1.10.2 requires typing-extensions>=4.1.0, but you have typing-extensions 3.7.4.3 which is incompatible.\n",
            "jaxlib 0.3.25+cuda11.cudnn805 requires numpy>=1.20, but you have numpy 1.19.5 which is incompatible.\n",
            "jax 0.3.25 requires numpy>=1.20, but you have numpy 1.19.5 which is incompatible.\n",
            "grpcio-status 1.48.2 requires grpcio>=1.48.2, but you have grpcio 1.34.1 which is incompatible.\n",
            "google-cloud-bigquery 3.3.6 requires grpcio<2.0dev,>=1.47.0, but you have grpcio 1.34.1 which is incompatible.\n",
            "cmdstanpy 1.0.8 requires numpy>=1.21, but you have numpy 1.19.5 which is incompatible.\u001b[0m\n",
            "Successfully installed absl-py-0.15.0 grpcio-1.34.1 keras-nightly-2.5.0.dev2021032900 numpy-1.19.5 tensorflow-2.5.0 tensorflow-estimator-2.5.0 termcolor-1.1.0 typing-extensions-3.7.4.3 wrapt-1.12.1\n"
          ]
        },
        {
          "output_type": "display_data",
          "data": {
            "application/vnd.colab-display-data+json": {
              "pip_warning": {
                "packages": [
                  "numpy"
                ]
              }
            }
          },
          "metadata": {}
        }
      ],
      "source": [
        "#@title INSTALLATION PACK1\n",
        "\n",
        "# Update CUDA for TF 2.5\n",
        "!wget https://developer.download.nvidia.com/compute/cuda/repos/ubuntu2004/x86_64/libcudnn8_8.1.0.77-1+cuda11.2_amd64.deb\n",
        "!dpkg -i libcudnn8_8.1.0.77-1+cuda11.2_amd64.deb\n",
        "# Check if package has been installed\n",
        "!ls -l /usr/lib/x86_64-linux-gnu/libcudnn.so.*\n",
        "# Upgrade Tensorflow\n",
        "!pip install --upgrade tensorflow==2.5.0"
      ]
    },
    {
      "cell_type": "code",
      "execution_count": 1,
      "metadata": {
        "colab": {
          "base_uri": "https://localhost:8080/"
        },
        "id": "R9Gv7O5t3oJG",
        "outputId": "22d28848-2ae2-4d4d-fa16-9c666eebb615",
        "cellView": "form"
      },
      "outputs": [
        {
          "output_type": "stream",
          "name": "stdout",
          "text": [
            "Mounted at /content/drive\n"
          ]
        }
      ],
      "source": [
        "#@title MOUNT GDRIVE\n",
        "\n",
        "\n",
        "from google.colab import drive\n",
        "\n",
        "drive.mount('/content/drive')"
      ]
    },
    {
      "cell_type": "code",
      "execution_count": 2,
      "metadata": {
        "colab": {
          "base_uri": "https://localhost:8080/"
        },
        "id": "XtlJnn0cXhKr",
        "outputId": "cced6f13-14e9-4ae6-936f-4831ec6b2b03",
        "cellView": "form"
      },
      "outputs": [
        {
          "output_type": "stream",
          "name": "stdout",
          "text": [
            "Copying from \"/content/drive/MyDrive/model\" to \"/content/maskrcnn_colab/model\"...\n"
          ]
        }
      ],
      "source": [
        "#@title COPY MODEL\n",
        "import os\n",
        "\n",
        "src_path = '/content/drive/MyDrive/model' #@param {type: 'string'}\n",
        "assert os.path.exists(src_path), f\"Source '{src_path}' doesn't exist!\"\n",
        "\n",
        "target_path = '/content/maskrcnn_colab' #@param {type: 'string'}\n",
        "os.makedirs(target_path, exist_ok=True)\n",
        "assert os.path.exists(target_path), f\"Target '{target_path}' doesn't exist!\"\n",
        "\n",
        "target_path = os.path.join(target_path, os.path.basename(src_path))\n",
        "print(f'Copying from \"{src_path}\" to \"{target_path}\"...')\n",
        "os.makedirs(target_path, exist_ok=True)\n",
        "!cp -rf \"$src_path\"/* \"$target_path\"  # also work when source is a shortcut"
      ]
    },
    {
      "cell_type": "code",
      "execution_count": 3,
      "metadata": {
        "id": "Md87Hxgtn6zi",
        "cellView": "form",
        "colab": {
          "base_uri": "https://localhost:8080/"
        },
        "outputId": "3c73c256-dea6-4bbf-caa3-04f38cf65b47"
      },
      "outputs": [
        {
          "output_type": "stream",
          "name": "stdout",
          "text": [
            "--2022-12-17 05:28:23--  https://pysource.com/extra_files/maskrcnn_colab_demo_commit_17.zip\n",
            "Resolving pysource.com (pysource.com)... 172.67.180.33, 104.21.67.193, 2606:4700:3031::6815:43c1, ...\n",
            "Connecting to pysource.com (pysource.com)|172.67.180.33|:443... connected.\n",
            "HTTP request sent, awaiting response... 200 OK\n",
            "Length: 59340 (58K) [application/zip]\n",
            "Saving to: ‘maskrcnn_colab_demo_commit_17.zip’\n",
            "\n",
            "maskrcnn_colab_demo 100%[===================>]  57.95K  --.-KB/s    in 0.01s   \n",
            "\n",
            "2022-12-17 05:28:23 (5.06 MB/s) - ‘maskrcnn_colab_demo_commit_17.zip’ saved [59340/59340]\n",
            "\n",
            "Archive:  maskrcnn_colab_demo_commit_17.zip\n",
            "   creating: maskrcnn_colab/mrcnn_demo/\n",
            "  inflating: maskrcnn_colab/mrcnn_demo/config.py  \n",
            "  inflating: maskrcnn_colab/mrcnn_demo/model.py  \n",
            "  inflating: maskrcnn_colab/mrcnn_demo/m_rcnn.py  \n",
            "  inflating: maskrcnn_colab/mrcnn_demo/parallel_model.py  \n",
            "  inflating: maskrcnn_colab/mrcnn_demo/utils.py  \n",
            "  inflating: maskrcnn_colab/mrcnn_demo/visualize.py  \n",
            "VERS 0.4 - updated 04/08/2022\n"
          ]
        },
        {
          "output_type": "stream",
          "name": "stderr",
          "text": [
            "/content/maskrcnn_colab/mrcnn_demo/model.py:2378: SyntaxWarning: \"is\" with a literal. Did you mean \"==\"?\n",
            "  if os.name is 'nt':\n"
          ]
        },
        {
          "output_type": "stream",
          "name": "stdout",
          "text": [
            "Downloading pretrained model to /content/maskrcnn_colab/mask_rcnn_coco.h5 ...\n",
            "... done downloading pretrained model!\n"
          ]
        }
      ],
      "source": [
        "#@title INSTALLATION PACKw\n",
        "\n",
        "\n",
        "!wget https://pysource.com/extra_files/maskrcnn_colab_demo_commit_17.zip\n",
        "!unzip maskrcnn_colab_demo_commit_17.zip\n",
        "import sys\n",
        "sys.path.append(\"/content/maskrcnn_colab/mrcnn_demo\")\n",
        "from m_rcnn import *\n",
        "from visualize import random_colors, get_mask_contours, draw_mask\n",
        "%matplotlib inline"
      ]
    },
    {
      "cell_type": "code",
      "execution_count": null,
      "metadata": {
        "colab": {
          "base_uri": "https://localhost:8080/"
        },
        "id": "JvM9sdw3Vou_",
        "outputId": "1a5d6e10-56aa-4afb-d6a1-a9bbeb16fd13",
        "cellView": "form"
      },
      "outputs": [
        {
          "output_type": "stream",
          "name": "stdout",
          "text": [
            "NVIDIA-SMI has failed because it couldn't communicate with the NVIDIA driver. Make sure that the latest NVIDIA driver is installed and running.\n",
            "\n"
          ]
        }
      ],
      "source": [
        "#@title NVIDIA\n",
        "\n",
        "!nvidia-smi"
      ]
    },
    {
      "cell_type": "code",
      "execution_count": null,
      "metadata": {
        "id": "FvA6Wb88xBq2",
        "cellView": "form"
      },
      "outputs": [],
      "source": [
        "#@title CONVERT JPEG TO PNG\n",
        "\n",
        "\n",
        "# Set the directory where the JPEG and JPG images are located\n",
        "directory = \"/content/drive/MyDrive/Archive\"\n",
        "\n",
        "# Set the directory where the PNG images should be saved\n",
        "png_directory = \"/content/drive/MyDrive/Archive_png\"\n",
        "\n",
        "# Make sure the png directory exists\n",
        "if not os.path.exists(png_directory):\n",
        "  os.makedirs(png_directory)\n",
        "\n",
        "# Loop through all the files in the directory\n",
        "for filename in os.listdir(directory):\n",
        "  # Check if the file is a JPEG or JPG file\n",
        "  if filename.endswith(\".jpeg\") or filename.endswith(\".jpg\"):\n",
        "    # Open the image file\n",
        "    image = Image.open(os.path.join(directory, filename))\n",
        "    max_size = (1000, 1000)\n",
        "    image.thumbnail(max_size)\n",
        "   \n",
        "    # Save the image as a PNG file in the png directory\n",
        "    image.save(os.path.join(png_directory, filename.replace(\".jpeg\", \".png\").replace(\".jpg\", \".png\")))"
      ]
    },
    {
      "cell_type": "code",
      "execution_count": 254,
      "metadata": {
        "id": "J3CMgu1RRRhR"
      },
      "outputs": [],
      "source": [
        "#@title IMPORT LIBRARIES\n",
        "\n",
        "import matplotlib.pyplot as plt\n",
        "from skimage.filters import threshold_niblack\n",
        "from skimage.util import img_as_ubyte\n",
        "from google.colab.patches import cv2,cv2_imshow\n",
        "import os\n",
        "from PIL import Image\n",
        "import sys\n",
        "\n",
        "from math import atan, pi, degrees\n",
        "import math\n",
        "\n",
        "import seaborn as sns\n",
        "from numpy import polyfit\n",
        "import numpy as np\n",
        "import numpy\n",
        "numpy.set_printoptions(threshold=sys.maxsize)\n"
      ]
    },
    {
      "cell_type": "code",
      "execution_count": 6,
      "metadata": {
        "id": "BsuAfk5-xcOv",
        "colab": {
          "base_uri": "https://localhost:8080/"
        },
        "cellView": "form",
        "outputId": "e968985e-38c5-4b76-80c6-266fffbe2282"
      },
      "outputs": [
        {
          "output_type": "stream",
          "name": "stderr",
          "text": [
            "WARNING:tensorflow:From /usr/local/lib/python3.8/dist-packages/tensorflow/python/ops/array_ops.py:5043: calling gather (from tensorflow.python.ops.array_ops) with validate_indices is deprecated and will be removed in a future version.\n",
            "Instructions for updating:\n",
            "The `validate_indices` argument has no effect. Indices are always validated on CPU and never validated on GPU.\n",
            "WARNING:tensorflow:From /usr/local/lib/python3.8/dist-packages/tensorflow/python/util/deprecation.py:602: calling map_fn_v2 (from tensorflow.python.ops.map_fn) with dtype is deprecated and will be removed in a future version.\n",
            "Instructions for updating:\n",
            "Use fn_output_signature instead\n"
          ]
        },
        {
          "output_type": "stream",
          "name": "stdout",
          "text": [
            "Loading weights from  /content/maskrcnn_colab/mask_rcnn_coco.h5\n"
          ]
        }
      ],
      "source": [
        "#@title MODELİ YÜKLE\n",
        "\n",
        "test_model, inference_config = load_inference_model(1, \"/content/maskrcnn_colab/mask_rcnn_coco.h5\")"
      ]
    },
    {
      "cell_type": "code",
      "execution_count": 262,
      "metadata": {
        "id": "IlNYqGhvqb_p",
        "colab": {
          "base_uri": "https://localhost:8080/",
          "height": 762
        },
        "outputId": "40a2df08-f2ee-48c1-c46a-bc0efe69f6b7"
      },
      "outputs": [
        {
          "output_type": "display_data",
          "data": {
            "text/plain": [
              "<Figure size 432x288 with 1 Axes>"
            ],
            "image/png": "[encoded data removed]"
          },
          "metadata": {}
        },
        {
          "output_type": "display_data",
          "data": {
            "text/plain": [
              "<Figure size 432x288 with 1 Axes>"
            ],
            "image/png": "[encoded data removed]"
          },
          "metadata": {
            "needs_background": "light"
          }
        },
        {
          "output_type": "execute_result",
          "data": {
            "text/plain": [
              "Text(50, 600, '23')"
            ]
          },
          "metadata": {},
          "execution_count": 262
        },
        {
          "output_type": "display_data",
          "data": {
            "text/plain": [
              "<Figure size 432x288 with 2 Axes>"
            ],
            "image/png": "[encoded data removed]"
          },
          "metadata": {
            "needs_background": "light"
          }
        }
      ],
      "source": [
        "img = cv2.imread('/content/drive/MyDrive/Archive_png/01-July-2019-6.png')\n",
        "# Check if the image is actually loaded\n",
        "\n",
        "\n",
        "# Iterate through the files\n",
        "\n",
        "\n",
        "\n",
        "\n",
        "#******************************************************************************\n",
        "threshold = threshold_niblack(img, window_size=39, k=-0.6)\n",
        "binary_image = img > threshold\n",
        "binary_image = img_as_ubyte(binary_image)\n",
        "#****************************************************************************** \n",
        "r = test_model.detect([binary_image])[0]\n",
        "#******************************************************************************\n",
        "colors=random_colors(2)\n",
        "#******************************************************************************\n",
        "# Get Coordinates and show it on the image\n",
        "object_count = len(r[\"class_ids\"])\n",
        "for i in range(object_count):\n",
        "    # 1. Mask\n",
        "    mask = r[\"masks\"][:, :, i]\n",
        "    contours = get_mask_contours(mask)\n",
        "    for cnt in contours:\n",
        "        cv2.polylines(binary_image, [cnt], True, colors[1], 2)\n",
        "#******************************************************************************    \n",
        "# Flatten the contours list into a single NumPy array\n",
        "flattened_contours = np.concatenate(contours)\n",
        "\n",
        "# Get a set of unique y values from the flattened contours array\n",
        "y_values = (set(flattened_contours[:, 1]))\n",
        "\n",
        "midpoints = []\n",
        "\n",
        "# Iterate over the y values\n",
        "for y in y_values:\n",
        "  # Use the isin() function to filter the contours array to only include coordinates with the current y value\n",
        "  x_values = flattened_contours[np.isin(flattened_contours[:, 1], y), 0]\n",
        "  \n",
        "  # Compute the average of the x values\n",
        "  x_average = np.mean(x_values)\n",
        "  \n",
        "  # Append the x_average and y values to the midpoints list\n",
        "  midpoints.append([(x_average), (y)])\n",
        "\n",
        "#******************************************************************************\n",
        "flipped_midpoints = [(y, x) for x, y in midpoints]\n",
        "\n",
        "# Extract the x and y coordinates from the flipped_midpoints list\n",
        "x = [coord[0] for coord in flipped_midpoints]\n",
        "y = [coord[1] for coord in flipped_midpoints]\n",
        "\n",
        "# Create a new figure with a white background\n",
        "fig = plt.figure(facecolor='w')\n",
        "\n",
        "# Use the plot() function to plot the x and y coordinates on the white background\n",
        "plt.plot(x, y)\n",
        "\n",
        "# Set the limits of the x and y axes to the same range\n",
        "plt.xlim(0, binary_image.shape[0])\n",
        "plt.ylim(0, binary_image.shape[1])\n",
        "\n",
        "# Save the plot to a file\n",
        "plt.savefig('flipped_midpoints_same_scale.png')\n",
        "#******************************************************************************\n",
        "\n",
        "coords = sorted(flipped_midpoints, key=lambda x: x[0])\n",
        "fig, ax = plt.subplots()\n",
        "\n",
        "\n",
        "subset = coords[int(len(coords)*0):int(len(coords)*1)]\n",
        "x = [x[0] for x in subset]\n",
        "y = [x[1] for x in subset]\n",
        "\n",
        "coefficients = np.polyfit(x, y, 7)\n",
        "\n",
        "# Create a range of values for the x-axis\n",
        "x_values = np.linspace(min(x), max(x), 500)\n",
        "\n",
        "# Use the coefficients to calculate the y-values\n",
        "y_values = np.polyval(coefficients, x_values)\n",
        "plt.plot(x_values, y_values)\n",
        "\n",
        "# Compute the coefficients of the derivative of the polynomial\n",
        "derivative_coefficients = np.polyder(coefficients)\n",
        "\n",
        "# Compute the coefficients of the second derivative of the polynomial\n",
        "second_derivative_coefficients = np.polyder(derivative_coefficients)\n",
        "\n",
        "# Calculate the second derivative of the polynomial at each point on the x-axis\n",
        "second_derivative_values = np.polyval(second_derivative_coefficients, x_values)\n",
        "\n",
        "# Use the sign function to find the sign of the second derivative at each point\n",
        "second_derivative_signs = np.sign(second_derivative_values)\n",
        "\n",
        "# Find the points where the sign of the second derivative changes\n",
        "inflection_points = np.where(np.diff(second_derivative_signs))[0]\n",
        "inverse_inf_points = []\n",
        "\n",
        "# Iterate over the inflection points\n",
        "for inflection_point in inflection_points:\n",
        "    # Get the x and y values at the current index\n",
        "    x_inflection = x_values[inflection_point]\n",
        "    y_inflection = y_values[inflection_point]\n",
        "    # Append the coordinates to the list\n",
        "    inverse_inf_points.append((y_inflection, x_inflection))\n",
        "\n",
        "# Find the minimum and maximum x-values\n",
        "#x_min = min(x)\n",
        "#x_max = max(x)\n",
        "x_min = min([x_value for i, x_value in enumerate(x) if 0.02 <= i/len(x) <= 0.98])\n",
        "x_max = max([x_value for i, x_value in enumerate(x) if 0.02 <= i/len(x) <= 0.98])\n",
        "# Find the y-values and slopes of the tangents at the minimum and maximum x-values\n",
        "y_min = np.polyval(coefficients, x_min)\n",
        "slope_min = np.polyval(derivative_coefficients, x_min)\n",
        "slope_min_inv=-1/slope_min\n",
        "intercept = y_min - slope_min_inv * x_min\n",
        "x_line = np.linspace(min(x), max(x), 2)\n",
        "y_line = intercept + slope_min_inv * x_line\n",
        "\n",
        "# Calculate the length of the line in pixels\n",
        "line_length = 150\n",
        "x1 = x_min\n",
        "y1 = y_min\n",
        "x2 = x1 +   (x_line[1] - x_line[0]) / line_length\n",
        "y2 = y1 +  (y_line[1] - y_line[0]) / line_length\n",
        "x3 = x1 -  (x_line[1] - x_line[0]) / line_length\n",
        "y3 = y1 -  (y_line[1] - y_line[0]) / line_length\n",
        "plt.plot([x3, x2], [y3, y2])\n",
        "\n",
        "\n",
        "\n",
        "\n",
        "\n",
        "\n",
        "y_max = np.polyval(coefficients, x_max)\n",
        "slope_max = np.polyval(derivative_coefficients, x_max)\n",
        "slope_max_inv=-1/slope_max\n",
        "intercept = y_max - slope_max_inv * x_max\n",
        "x_line = np.linspace(min(x), max(x), 2)\n",
        "y_line = intercept + slope_max_inv * x_line\n",
        "\n",
        "# Calculate the length of the line in pixels\n",
        "line_length = 50\n",
        "x1 = x_max\n",
        "y1 = y_max\n",
        "x2 = x1 +   (x_line[1] - x_line[0]) / line_length\n",
        "y2 = y1 +  (y_line[1] - y_line[0]) / line_length\n",
        "x3 = x1 -  (x_line[1] - x_line[0]) / line_length\n",
        "y3 = y1 -  (y_line[1] - y_line[0]) / line_length\n",
        "plt.plot([x3, x2], [y3, y2])\n",
        "\n",
        "\n",
        "\n",
        "# Plot the minimum and maximum x-values as blue dots\n",
        "plt.scatter([x_min, x_max], [y_min, y_max], c='blue', s=50)\n",
        "\n",
        "# Find the coordinates of the points at which the perpendiculars intersect the x-axis\n",
        "\n",
        "\n",
        "\n",
        "\n",
        "\n",
        " \n",
        "# Mark the inflection points on the plot with a red dot\n",
        "#DRAW TANGENT TO POLYNOMIAL\n",
        "# Loop over the filtered inflection points\n",
        "slopes=[]\n",
        "for inflection_point in inflection_points:\n",
        "    x_inflection = x_values[inflection_point]\n",
        "    y_inflection = y_values[inflection_point]\n",
        "    derivative_value = np.polyval(derivative_coefficients, x_inflection)\n",
        "    slopes.append(-1*derivative_value)\n",
        "   \n",
        "\n",
        "\n",
        "inf_point_with_slopes=[]\n",
        "\n",
        "for (x, y), m in zip(inverse_inf_points, slopes):\n",
        "  inf_point_with_slopes.append((x, y, m))\n",
        "\n",
        "\n",
        " #INVERTED PART   \n",
        "# ****************************************************************\n",
        "\n",
        "plt.xlim(0, 450)\n",
        "plt.ylim(0,706)\n",
        "ax.axis('equal')\n",
        "# Show the plot\n",
        "\n",
        "plt.show()\n",
        "# ****************************************************************\n",
        "\n",
        "figres, (ax1, ax2) = plt.subplots(1, 2)\n",
        "height, width = binary_image.shape[:2]\n",
        "image_width = width\n",
        "image_height = height\n",
        "ax1.set_xlim(image_width)\n",
        "ax1.set_ylim(image_height)\n",
        "ax1.set_axis_off()\n",
        "ax2.set_axis_off()\n",
        "\n",
        "ax1.invert_xaxis()\n",
        "ax1.imshow(img)\n",
        "top_tuple=[(x_min,y_min,slope_min)]\n",
        "bottom_tuple=[(x_max,y_max,slope_max)]\n",
        "#PLOT LINES FUNCTION\n",
        "\n",
        "def plot_lines(points):\n",
        "  \n",
        "\n",
        "  for x, y, m in points:\n",
        "    topxvalues = []\n",
        "    topyvalues = []\n",
        "\n",
        "    topx = x\n",
        "    topy = y\n",
        "    topxvalues.append(topx)\n",
        "    topyvalues.append(topy)\n",
        "\n",
        "    topx2 = topx + 30\n",
        "    topy2 = topy + m * 30\n",
        "    topxvalues.append(topx2)\n",
        "    topyvalues.append(topy2)\n",
        "\n",
        "    topx3 = topx - 30\n",
        "    topy3 = topy - m * 30\n",
        "    topxvalues.append(topx3)\n",
        "    topyvalues.append(topy3)\n",
        "\n",
        "    ax1.scatter(x, y, color='red')\n",
        "    ax1.plot(topxvalues, topyvalues)\n",
        "\n",
        "#************************************\n",
        "\n",
        "\n",
        "\n",
        "\n",
        "\n",
        "#INFLECTION POINTS\n",
        "\n",
        "\n",
        "\n",
        "final_tuple=inf_point_with_slopes\n",
        "\n",
        "\n",
        "if len(inflection_points) ==1:\n",
        " \n",
        "    final_tuple.insert(0, top_tuple[0])\n",
        "    final_tuple[1:1] = inf_point_with_slopes\n",
        "    final_tuple.insert(2, bottom_tuple[0])\n",
        "\n",
        "if len(inflection_points) ==2:\n",
        "    final_tuple.insert(0, top_tuple[0])\n",
        "    final_tuple[1:1] = inf_point_with_slopes\n",
        "    final_tuple.append(bottom_tuple)\n",
        "\n",
        "if len(inflection_points) ==3:\n",
        "    topx=y_min\n",
        "    topy=x_min\n",
        "    bottomx=y_max\n",
        "    bottomy=x_max\n",
        "\n",
        "    # Extract the x and y coordinates\n",
        "    x = [inverse_inf_points[0][0], topx]\n",
        "    y = [inverse_inf_points[0][1], topy]\n",
        "    \n",
        "    dx = topx - inverse_inf_points[0][0]\n",
        "    dy = topy - inverse_inf_points[0][1]\n",
        "\n",
        "# Calculate the length of the line segment using the distance formula\n",
        "    length = math.sqrt(dx**2 + dy**2)\n",
        "    \n",
        "\n",
        "    x = [inverse_inf_points[2][0], bottomx]\n",
        "    y = [inverse_inf_points[2][1], bottomy]\n",
        "    \n",
        "    dx = bottomx - inverse_inf_points[2][0]\n",
        "    dy = bottomy - inverse_inf_points[2][1]\n",
        "    \n",
        "# Calculate the length of the line segment using the distance formula\n",
        "    length2 = math.sqrt(dx**2 + dy**2)\n",
        "    if length>length2: # cervical wins\n",
        "      pickedx=topx\n",
        "      pickedy=topy\n",
        "      pickedslope=-slope_min\n",
        "      tuple_winner=[pickedx,pickedy,pickedslope]\n",
        "      final_tuple.insert(0, tuple_winner[0])\n",
        "\n",
        "      \n",
        "     \n",
        "    else: #lumbar wins\n",
        "      pickedx=bottomx\n",
        "      pickedy=bottomy\n",
        "      pickedslope=-slope_max\n",
        "      tuple_winner=[pickedx,pickedy,pickedslope]\n",
        "      final_tuple.append(tuple_winner)\n",
        "   \n",
        "\n",
        "\n",
        "plot_lines(final_tuple)   \n",
        " \n",
        "\n",
        "\n",
        "# Display the second image in the second subplot\n",
        "ax2.plot(y_values,x_values)\n",
        "ax2.imshow(binary_image)\n",
        "#AAAAAAAAAAAAAAAAAAAAAAAAAAAAAAAAAAAAAAAAAA\n",
        "\n",
        "\n",
        "#BEFORE GOING INTO CALCULATION, CREATE THE FINAL LIST WITH COORDINATES AND SLOPES\n",
        "\n",
        "\n",
        "#calculate angles\n",
        "cervical_angle=int(math.degrees(math.atan2(final_tuple[1][2] - final_tuple[0][2], 1)))\n",
        "thoracic_angle = int(math.degrees(math.atan2(final_tuple[2][2] - final_tuple[1][2], 1)))\n",
        "# Calculate the lumbar angle\n",
        "lumbar_angle = int(math.degrees(math.atan2(final_tuple[3][2] - final_tuple[2][2], 1)))\n",
        "cervical_angle = abs(cervical_angle)\n",
        "thoracic_angle = abs(thoracic_angle)\n",
        "lumbar_angle = abs(lumbar_angle)\n",
        "\n",
        "# If the angle is greater than 90 degrees, subtract it from 180 to get the acute angle\n",
        "if cervical_angle > 90:\n",
        "    cervical_angle = 180 - cervical_angle\n",
        "if thoracic_angle > 90:\n",
        "    thoracic_angle = 180 - thoracic_angle\n",
        "if lumbar_angle > 90:\n",
        "    lumbar_angle = 180 - lumbar_angle\n",
        "\n",
        "#XXXXXXXXXXXXXXXXXXXXXXXXXXXXXXXXXXXXXXXXXX\n",
        "\n",
        "#AAAAAAAAAAAAAAAAAAAAAAAAAAAAAAAAAAAAAAAAAA\n",
        "# Calculate label coordinates.\n",
        "# Get the width and height of the image\n",
        "height, width = binary_image.shape[:2]\n",
        "\n",
        "# Top label\n",
        "ax1.text(50, 200, int(cervical_angle), fontsize=18,color='cyan')\n",
        "# Mid-label\n",
        "ax1.text(50,400, int(thoracic_angle), fontsize=18,color='red')\n",
        "# Bottom-label\n",
        "ax1.text(50,600, int(lumbar_angle), fontsize=18,color='green')\n",
        "#XXXXXXXXXXXXXXXXXXXXXXXXXXXXXXXXXXXXXXXXXX\n",
        "\n",
        "# Save the width and height to variables\n",
        "\n",
        "# ****************************************************************\n",
        "\n"
      ]
    },
    {
      "cell_type": "code",
      "source": [
        "#LAZIM OLURSA\n"
      ],
      "metadata": {
        "id": "2XC84TJ_IgjM"
      },
      "execution_count": null,
      "outputs": []
    }
  ],
  "metadata": {
    "colab": {
      "provenance": []
    },
    "gpuClass": "standard",
    "kernelspec": {
      "display_name": "Python 3",
      "language": "python",
      "name": "python3"
    },
    "language_info": {
      "codemirror_mode": {
        "name": "ipython",
        "version": 3
      },
      "file_extension": ".py",
      "mimetype": "text/x-python",
      "name": "python",
      "nbconvert_exporter": "python",
      "pygments_lexer": "ipython3",
      "version": "3.7.9"
    }
  },
  "nbformat": 4,
  "nbformat_minor": 0
}